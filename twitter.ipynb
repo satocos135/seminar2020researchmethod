{
 "cells": [
  {
   "cell_type": "code",
   "execution_count": null,
   "metadata": {},
   "outputs": [],
   "source": [
    "# ※RStudio で実行する際は管理者権限が必要"
   ]
  },
  {
   "cell_type": "code",
   "execution_count": null,
   "metadata": {},
   "outputs": [],
   "source": [
    "# 必要なパッケージ群\n",
    "# install.packages('rtweet')\n",
    "# install.packages('jsonlite')\n",
    "# install.packages('dotenv')"
   ]
  },
  {
   "cell_type": "code",
   "execution_count": null,
   "metadata": {},
   "outputs": [],
   "source": [
    "# twitter APIを使うのに必要\n",
    "library('rtweet')\n",
    "library('devtools')\n",
    "\n",
    "# キーを別ファイルにするのに必要\n",
    "library('dotenv')"
   ]
  },
  {
   "cell_type": "code",
   "execution_count": null,
   "metadata": {},
   "outputs": [],
   "source": [
    "# APIキーのセットを持っている場合のみこのセルを実行\n",
    "\n",
    "# .envに書いてある環境変数を読み込む\n",
    "# Sys.getenv(変数名)で呼び出すことができる\n",
    "load_dot_env()\n",
    "\n",
    "# APIを叩くのに必要なキーを読み込む\n",
    "\n",
    "twitter_token = create_token(\n",
    "    app = Sys.getenv('APP_NAME'),\n",
    "    consumer_key = Sys.getenv('API_KEY'),\n",
    "    consumer_secret = Sys.getenv('API_SECRET'),\n",
    "    access_token = Sys.getenv('ACCESS_TOKEN'),\n",
    "    access_secret = Sys.getenv('ACCESS_SECRET')\n",
    ")"
   ]
  },
  {
   "cell_type": "code",
   "execution_count": null,
   "metadata": {},
   "outputs": [],
   "source": [
    "# 特定のキーワードで検索する(最大6~9日分)\n",
    "\n",
    "tweet = search_tweets(\"島根大学\", n = 10, include_rts = FALSE)"
   ]
  },
  {
   "cell_type": "code",
   "execution_count": null,
   "metadata": {},
   "outputs": [],
   "source": [
    "# tibble形式で帰ってくる\n",
    "tweet"
   ]
  },
  {
   "cell_type": "code",
   "execution_count": null,
   "metadata": {},
   "outputs": [],
   "source": [
    "# 特定のユーザのタイムラインを取得する(最大3200件)\n",
    "\n",
    "tweets = get_timeline(\"cosine_135\", n = 10)"
   ]
  },
  {
   "cell_type": "code",
   "execution_count": null,
   "metadata": {},
   "outputs": [],
   "source": [
    "tweets"
   ]
  },
  {
   "cell_type": "code",
   "execution_count": null,
   "metadata": {},
   "outputs": [],
   "source": [
    "# 1%sample APIを使って取得する\n",
    "# Returns public statuses via one of the following four methods:\n",
    "#•  1. Sampling a small random sample of all publicly available tweets\n",
    "#•  2. Filtering via a search-like query (up to 400 keywords) \n",
    "# 島根 OR 鳥取\n",
    "#•  3. Tracking via vector of user ids (up to 5000 user_ids)\n",
    "#•  4. Location via geo coordinates (1-360 degree location boxes)\n",
    "stream = stream_tweets(\"\", file_name='test_stream.json', timeout=5)"
   ]
  }
 ],
 "metadata": {
  "kernelspec": {
   "display_name": "R",
   "language": "R",
   "name": "ir"
  },
  "language_info": {
   "codemirror_mode": "r",
   "file_extension": ".r",
   "mimetype": "text/x-r-source",
   "name": "R",
   "pygments_lexer": "r",
   "version": "4.0.2"
  }
 },
 "nbformat": 4,
 "nbformat_minor": 2
}
